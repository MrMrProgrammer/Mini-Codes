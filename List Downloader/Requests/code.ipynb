{
 "cells": [
  {
   "cell_type": "code",
   "execution_count": null,
   "metadata": {},
   "outputs": [],
   "source": [
    "from tqdm import tqdm\n",
    "import requests\n",
    "import os"
   ]
  },
  {
   "cell_type": "code",
   "execution_count": null,
   "metadata": {},
   "outputs": [],
   "source": [
    "def listDownloader(filePath, saveDir, name, type=\"mp4\"):\n",
    "\n",
    "    if not os.path.exists(saveDir):\n",
    "        os.makedirs(saveDir) \n",
    "\n",
    "    with open(filePath, 'r') as file:\n",
    "        links = file.read().splitlines()\n",
    "        file.close()\n",
    "\n",
    "    for i in tqdm(range(len(links))):\n",
    "\n",
    "        url = links[i]\n",
    "\n",
    "        response = requests.get(url, stream=True)\n",
    "        filename = f\"{saveDir}/{name} ({i+1}).{type}\"\n",
    "\n",
    "        with open(filename, 'wb') as f:\n",
    "            for chunk in response.iter_content(chunk_size=1024):\n",
    "                if chunk:\n",
    "                    f.write(chunk)"
   ]
  },
  {
   "cell_type": "code",
   "execution_count": null,
   "metadata": {},
   "outputs": [],
   "source": [
    "listDownloader('links.txt', 'Downloads', 'test')"
   ]
  }
 ],
 "metadata": {
  "kernelspec": {
   "display_name": "venvRequests",
   "language": "python",
   "name": "python3"
  },
  "language_info": {
   "codemirror_mode": {
    "name": "ipython",
    "version": 3
   },
   "file_extension": ".py",
   "mimetype": "text/x-python",
   "name": "python",
   "nbconvert_exporter": "python",
   "pygments_lexer": "ipython3",
   "version": "3.12.4"
  },
  "orig_nbformat": 4
 },
 "nbformat": 4,
 "nbformat_minor": 2
}
