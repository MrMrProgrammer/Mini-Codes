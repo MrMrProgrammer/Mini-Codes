{
 "cells": [
  {
   "cell_type": "code",
   "execution_count": null,
   "metadata": {},
   "outputs": [],
   "source": [
    "import csv\n",
    "from tqdm import tqdm\n",
    "import requests"
   ]
  },
  {
   "cell_type": "code",
   "execution_count": null,
   "metadata": {},
   "outputs": [],
   "source": [
    "def listDownloader ( fileDir , saveDir , name , type=\"mp4\" ):\n",
    "\n",
    "    # ====================================================\n",
    "    with open( f'{fileDir}' , 'r') as read_obj:\n",
    "\n",
    "        csv_reader = csv.reader(read_obj)\n",
    "\n",
    "        list_of_csv = list(csv_reader)\n",
    "\n",
    "        read_obj.close()\n",
    "\n",
    "    links = []\n",
    "\n",
    "    for i in list_of_csv :\n",
    "\n",
    "        for j in i :\n",
    "\n",
    "            links.append(j)\n",
    "\n",
    "    # ====================================================\n",
    "\n",
    "    for i in tqdm(range(len(links))):\n",
    "\n",
    "        url = links[i]\n",
    "\n",
    "        def download_file(url,filename):\n",
    "\n",
    "            r = requests.get(url, stream=True)\n",
    "\n",
    "            with open(filename, 'wb') as f:\n",
    "\n",
    "                for chunk in r.iter_content(chunk_size=1024):\n",
    "\n",
    "                    if chunk:\n",
    "\n",
    "                        f.write(chunk)\n",
    "\n",
    "            return filename\n",
    "\n",
    "        download_file(url, f\"{saveDir}/{name} ({i+1}).{type}\" )"
   ]
  }
 ],
 "metadata": {
  "language_info": {
   "name": "python"
  },
  "orig_nbformat": 4
 },
 "nbformat": 4,
 "nbformat_minor": 2
}
