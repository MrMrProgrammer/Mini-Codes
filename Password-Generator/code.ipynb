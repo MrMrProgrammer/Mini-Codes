{
 "cells": [
  {
   "cell_type": "code",
   "execution_count": null,
   "metadata": {},
   "outputs": [],
   "source": [
    "import random"
   ]
  },
  {
   "cell_type": "code",
   "execution_count": null,
   "metadata": {},
   "outputs": [],
   "source": [
    "def pass_generator ():\n",
    "\n",
    "  nums = [0,1,2,3,4,5,6,7,8,9]\n",
    "  lowercaseـletters = ['a','b','c','d','e','f','g','h','i','j','k','l','m','n','o','p','q','r','s','t','u','v','w','x','y','z']\n",
    "  capitalـletters = ['A','B','C','D','E','F','G','H','I','J','K','L','M','N','O','P','Q','R','S','T','U','V','W','X','Y','Z']\n",
    "  symbols = ['!' , '@' , '#' , '$' , '%' , '^' , '&' , '*' , '(' , ')' , '+' ]\n",
    "\n",
    "  lists = [nums , lowercaseـletters , capitalـletters , symbols]\n",
    "  pass_list = []\n",
    "\n",
    "  for i in range(12):\n",
    "    pass_list.append(random.choices(lists[random.randint(0,3)]))\n",
    "\n",
    "  x = []\n",
    "  for i in pass_list:\n",
    "    x.append(i[0])\n",
    "\n",
    "  resulte = ''.join([str(elem) for elem in x])\n",
    "  \n",
    "  return resulte"
   ]
  }
 ],
 "metadata": {
  "language_info": {
   "name": "python"
  },
  "orig_nbformat": 4
 },
 "nbformat": 4,
 "nbformat_minor": 2
}
