{
 "cells": [
  {
   "cell_type": "code",
   "execution_count": null,
   "metadata": {},
   "outputs": [],
   "source": [
    "import csv"
   ]
  },
  {
   "cell_type": "code",
   "execution_count": null,
   "metadata": {},
   "outputs": [],
   "source": [
    "with open('../CSV/not found - 01.csv', 'r') as read_obj:\n",
    "\n",
    "    csv_reader = csv.reader(read_obj)\n",
    "\n",
    "    list_of_csv = list(csv_reader)\n",
    "\n",
    "    read_obj.close()\n",
    "\n",
    "    # ========================================================\n",
    "\n",
    "    list = []\n",
    "\n",
    "    for i in list_of_csv :\n",
    "        for j in i :\n",
    "            list.append(j)"
   ]
  }
 ],
 "metadata": {
  "language_info": {
   "name": "python"
  },
  "orig_nbformat": 4
 },
 "nbformat": 4,
 "nbformat_minor": 2
}
