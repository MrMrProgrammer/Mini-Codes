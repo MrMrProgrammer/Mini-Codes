{
 "cells": [
  {
   "cell_type": "code",
   "execution_count": null,
   "metadata": {},
   "outputs": [],
   "source": [
    "from selenium import webdriver\n",
    "from selenium.webdriver.common.keys import Keys\n",
    "from selenium.webdriver.common.by import By\n",
    "from webdriver_manager.chrome import ChromeDriverManager"
   ]
  },
  {
   "cell_type": "code",
   "execution_count": null,
   "metadata": {},
   "outputs": [],
   "source": [
    "def use_selenium (url) :\n",
    "\n",
    "    options = webdriver.ChromeOptions()\n",
    "    options.add_argument('headless') # Dont open the chrome \n",
    "\n",
    "    driver = webdriver.Chrome(ChromeDriverManager().install() , chrome_options=options)\n",
    "    \n",
    "    driver.get(url)\n",
    "\n",
    "    driver.close() # Close the chrome"
   ]
  }
 ],
 "metadata": {
  "language_info": {
   "name": "python"
  },
  "orig_nbformat": 4
 },
 "nbformat": 4,
 "nbformat_minor": 2
}
