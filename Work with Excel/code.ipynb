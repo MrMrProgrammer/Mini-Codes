{
 "cells": [
  {
   "cell_type": "code",
   "execution_count": null,
   "metadata": {},
   "outputs": [],
   "source": [
    "import xlsxwriter"
   ]
  },
  {
   "cell_type": "code",
   "execution_count": null,
   "metadata": {},
   "outputs": [],
   "source": [
    "workbook = xlsxwriter.Workbook('hello.xlsx')"
   ]
  },
  {
   "cell_type": "code",
   "execution_count": null,
   "metadata": {},
   "outputs": [],
   "source": [
    "worksheet = workbook.add_worksheet()"
   ]
  },
  {
   "cell_type": "code",
   "execution_count": null,
   "metadata": {},
   "outputs": [],
   "source": [
    "# Use the worksheet object to write\n",
    "# data via the write() method.\n",
    "worksheet.write('A1', 'Hello..')\n",
    "worksheet.write('B1', 'Geeks')\n",
    "worksheet.write('C1', 'For')\n",
    "worksheet.write('D1', 'Geeks')\n",
    "worksheet.name = 'ali'\n",
    " \n",
    "# Finally, close the Excel file\n",
    "# via the close() method.\n",
    "workbook.close()"
   ]
  }
 ],
 "metadata": {
  "language_info": {
   "name": "python"
  }
 },
 "nbformat": 4,
 "nbformat_minor": 2
}
