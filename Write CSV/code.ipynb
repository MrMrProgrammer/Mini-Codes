{
 "cells": [
  {
   "cell_type": "code",
   "execution_count": null,
   "metadata": {},
   "outputs": [],
   "source": [
    "import csv"
   ]
  },
  {
   "cell_type": "code",
   "execution_count": null,
   "metadata": {},
   "outputs": [],
   "source": [
    "# Add data to CSV\n",
    "\n",
    "def writer( data , filename ):\n",
    "    \n",
    "    test_list1 = []\n",
    "\n",
    "    with open (filename, \"a\", newline = \"\") as csvfile:\n",
    "\n",
    "        movies = csv.writer(csvfile)\n",
    "        test_list1.append(data)\n",
    "        movies.writerow(test_list1)\n",
    "        test_list1.clear()\n",
    "        \n",
    "    csvfile.close()"
   ]
  }
 ],
 "metadata": {
  "language_info": {
   "name": "python"
  },
  "orig_nbformat": 4
 },
 "nbformat": 4,
 "nbformat_minor": 2
}
